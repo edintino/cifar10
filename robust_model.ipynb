{
 "cells": [
  {
   "cell_type": "markdown",
   "metadata": {},
   "source": [
    "# Robust model\n",
    "\n",
    "## Data preparation"
   ]
  },
  {
   "cell_type": "code",
   "execution_count": 1,
   "metadata": {},
   "outputs": [
    {
     "data": {
      "text/plain": [
       "<torch._C.Generator at 0x7fcb53e55410>"
      ]
     },
     "execution_count": 1,
     "metadata": {},
     "output_type": "execute_result"
    }
   ],
   "source": [
    "# required imports and set seeds\n",
    "import torch\n",
    "import torch.nn as nn\n",
    "import torch.nn.functional as F\n",
    "import numpy as np\n",
    "from datetime import datetime\n",
    "\n",
    "import torchvision\n",
    "import torchvision.transforms as transforms\n",
    "\n",
    "import matplotlib.pyplot as plt\n",
    "import pandas as pd\n",
    "\n",
    "np.random.seed(7843)\n",
    "torch.manual_seed(7843)"
   ]
  },
  {
   "cell_type": "code",
   "execution_count": 2,
   "metadata": {},
   "outputs": [
    {
     "name": "stdout",
     "output_type": "stream",
     "text": [
      "Files already downloaded and verified\n",
      "Files already downloaded and verified\n"
     ]
    }
   ],
   "source": [
    "# transform required for vgg\n",
    "# furthermore we use standard data augmentation for the training set\n",
    "# to make the model more robust and also ideally a cat is a cat even after being rotated with 10 degrees :)\n",
    "# randomly ordered rotation, brightness and horizontal flip\n",
    "\n",
    "train_transform = transforms.Compose([\n",
    "        transforms.RandomResizedCrop(size=256, scale=(0.8, 1.0)),\n",
    "        transforms.RandomOrder([\n",
    "            transforms.RandomRotation(degrees=15),\n",
    "            transforms.ColorJitter(),\n",
    "            transforms.RandomHorizontalFlip(),\n",
    "        ]),\n",
    "        transforms.CenterCrop(size=224),\n",
    "        transforms.ToTensor(),\n",
    "        transforms.Normalize([0.485, 0.456, 0.406], [0.229, 0.224, 0.225])\n",
    "])\n",
    "\n",
    "test_transform = transforms.Compose([\n",
    "        transforms.Resize(size=256),\n",
    "        transforms.CenterCrop(size=224),\n",
    "        transforms.ToTensor(),\n",
    "        transforms.Normalize([0.485, 0.456, 0.406], [0.229, 0.224, 0.225])\n",
    "])\n",
    "\n",
    "train_dataset = torchvision.datasets.CIFAR10(\n",
    "    root='.',\n",
    "    train=True,\n",
    "    transform=train_transform,\n",
    "    download=True)\n",
    "test_dataset = torchvision.datasets.CIFAR10(\n",
    "    root='.',\n",
    "    train=False,\n",
    "    transform=test_transform,\n",
    "    download=True)"
   ]
  },
  {
   "cell_type": "code",
   "execution_count": 3,
   "metadata": {},
   "outputs": [
    {
     "name": "stdout",
     "output_type": "stream",
     "text": [
      "number of classes: 10\n"
     ]
    }
   ],
   "source": [
    "K = len(set(train_dataset.targets))\n",
    "print(\"number of classes:\", K)"
   ]
  },
  {
   "cell_type": "markdown",
   "metadata": {},
   "source": [
    "Small batch training tend to out perform large batch training at sharp minimas, see [here](https://arxiv.org/pdf/1609.04836.pdf)."
   ]
  },
  {
   "cell_type": "code",
   "execution_count": 4,
   "metadata": {},
   "outputs": [],
   "source": [
    "# batch size is bascially defined by the memory of my gpu\n",
    "batch_size = 16\n",
    "unused_indices = set(range(train_dataset.data.shape[0]))\n",
    "\n",
    "# random subselection of images, not the full subset\n",
    "rand_indices = np.random.choice(range(train_dataset.data.shape[0]), 750, replace=False)\n",
    "unused_indices -= set(rand_indices)\n",
    "\n",
    "train_loader = torch.utils.data.DataLoader(\n",
    "    train_dataset,\n",
    "    batch_size=batch_size,\n",
    "    sampler=torch.utils.data.sampler.SubsetRandomSampler(rand_indices)\n",
    ")\n",
    "test_loader = torch.utils.data.DataLoader(\n",
    "    test_dataset,\n",
    "    batch_size=batch_size,\n",
    ")"
   ]
  },
  {
   "cell_type": "markdown",
   "metadata": {},
   "source": [
    "Quick check on the distribution of the labels of the training dataset. Class 4 is a bit underreppresented within this random sample, but I am going to use active learning with margin sampling. Thus it should be not an issue as it would be improved, if required."
   ]
  },
  {
   "cell_type": "code",
   "execution_count": 5,
   "metadata": {},
   "outputs": [
    {
     "data": {
      "text/plain": [
       "5    97\n",
       "8    79\n",
       "0    78\n",
       "7    74\n",
       "2    74\n",
       "6    73\n",
       "9    71\n",
       "4    68\n",
       "3    68\n",
       "1    68\n",
       "dtype: int64"
      ]
     },
     "execution_count": 5,
     "metadata": {},
     "output_type": "execute_result"
    }
   ],
   "source": [
    "pd.Series(np.array(train_dataset.targets)[rand_indices]).value_counts()"
   ]
  },
  {
   "cell_type": "markdown",
   "metadata": {},
   "source": [
    "---\n",
    "## Model"
   ]
  },
  {
   "cell_type": "code",
   "execution_count": 6,
   "metadata": {},
   "outputs": [],
   "source": [
    "model = torchvision.models.vgg19(pretrained=True)\n",
    "\n",
    "# freeze vgg weights\n",
    "for param in model.parameters():\n",
    "    param.requires_grad = False\n",
    "    \n",
    "# extract number of features\n",
    "n_features = model.classifier[0].in_features"
   ]
  },
  {
   "cell_type": "code",
   "execution_count": 7,
   "metadata": {},
   "outputs": [],
   "source": [
    "# bit varied head\n",
    "class vgg_head(nn.Module):\n",
    "    def __init__(self, n_features, K):\n",
    "        super(vgg_head, self).__init__()\n",
    "        \n",
    "        self.fc = nn.Sequential(nn.Linear(n_features, 1024),\n",
    "                                nn.ReLU(),\n",
    "                                nn.Linear(1024, K))\n",
    "        \n",
    "    def forward(self, x):\n",
    "        outputs = self.fc(x)\n",
    "        return outputs, torch.ones(outputs.shape, dtype=outputs.dtype)\n",
    "    \n",
    "model.classifier = vgg_head(n_features, K)"
   ]
  },
  {
   "cell_type": "code",
   "execution_count": 8,
   "metadata": {},
   "outputs": [
    {
     "name": "stdout",
     "output_type": "stream",
     "text": [
      "cuda:0\n"
     ]
    },
    {
     "data": {
      "text/plain": [
       "VGG(\n",
       "  (features): Sequential(\n",
       "    (0): Conv2d(3, 64, kernel_size=(3, 3), stride=(1, 1), padding=(1, 1))\n",
       "    (1): ReLU(inplace=True)\n",
       "    (2): Conv2d(64, 64, kernel_size=(3, 3), stride=(1, 1), padding=(1, 1))\n",
       "    (3): ReLU(inplace=True)\n",
       "    (4): MaxPool2d(kernel_size=2, stride=2, padding=0, dilation=1, ceil_mode=False)\n",
       "    (5): Conv2d(64, 128, kernel_size=(3, 3), stride=(1, 1), padding=(1, 1))\n",
       "    (6): ReLU(inplace=True)\n",
       "    (7): Conv2d(128, 128, kernel_size=(3, 3), stride=(1, 1), padding=(1, 1))\n",
       "    (8): ReLU(inplace=True)\n",
       "    (9): MaxPool2d(kernel_size=2, stride=2, padding=0, dilation=1, ceil_mode=False)\n",
       "    (10): Conv2d(128, 256, kernel_size=(3, 3), stride=(1, 1), padding=(1, 1))\n",
       "    (11): ReLU(inplace=True)\n",
       "    (12): Conv2d(256, 256, kernel_size=(3, 3), stride=(1, 1), padding=(1, 1))\n",
       "    (13): ReLU(inplace=True)\n",
       "    (14): Conv2d(256, 256, kernel_size=(3, 3), stride=(1, 1), padding=(1, 1))\n",
       "    (15): ReLU(inplace=True)\n",
       "    (16): Conv2d(256, 256, kernel_size=(3, 3), stride=(1, 1), padding=(1, 1))\n",
       "    (17): ReLU(inplace=True)\n",
       "    (18): MaxPool2d(kernel_size=2, stride=2, padding=0, dilation=1, ceil_mode=False)\n",
       "    (19): Conv2d(256, 512, kernel_size=(3, 3), stride=(1, 1), padding=(1, 1))\n",
       "    (20): ReLU(inplace=True)\n",
       "    (21): Conv2d(512, 512, kernel_size=(3, 3), stride=(1, 1), padding=(1, 1))\n",
       "    (22): ReLU(inplace=True)\n",
       "    (23): Conv2d(512, 512, kernel_size=(3, 3), stride=(1, 1), padding=(1, 1))\n",
       "    (24): ReLU(inplace=True)\n",
       "    (25): Conv2d(512, 512, kernel_size=(3, 3), stride=(1, 1), padding=(1, 1))\n",
       "    (26): ReLU(inplace=True)\n",
       "    (27): MaxPool2d(kernel_size=2, stride=2, padding=0, dilation=1, ceil_mode=False)\n",
       "    (28): Conv2d(512, 512, kernel_size=(3, 3), stride=(1, 1), padding=(1, 1))\n",
       "    (29): ReLU(inplace=True)\n",
       "    (30): Conv2d(512, 512, kernel_size=(3, 3), stride=(1, 1), padding=(1, 1))\n",
       "    (31): ReLU(inplace=True)\n",
       "    (32): Conv2d(512, 512, kernel_size=(3, 3), stride=(1, 1), padding=(1, 1))\n",
       "    (33): ReLU(inplace=True)\n",
       "    (34): Conv2d(512, 512, kernel_size=(3, 3), stride=(1, 1), padding=(1, 1))\n",
       "    (35): ReLU(inplace=True)\n",
       "    (36): MaxPool2d(kernel_size=2, stride=2, padding=0, dilation=1, ceil_mode=False)\n",
       "  )\n",
       "  (avgpool): AdaptiveAvgPool2d(output_size=(7, 7))\n",
       "  (classifier): vgg_head(\n",
       "    (fc): Sequential(\n",
       "      (0): Linear(in_features=25088, out_features=1024, bias=True)\n",
       "      (1): ReLU()\n",
       "      (2): Linear(in_features=1024, out_features=10, bias=True)\n",
       "    )\n",
       "  )\n",
       ")"
      ]
     },
     "execution_count": 8,
     "metadata": {},
     "output_type": "execute_result"
    }
   ],
   "source": [
    "# look for gpu\n",
    "# move model to gpu\n",
    "device = torch.device(\"cuda:0\" if torch.cuda.is_available() else \"cpu\")\n",
    "print(device)\n",
    "model.to(device)"
   ]
  },
  {
   "cell_type": "markdown",
   "metadata": {},
   "source": [
    "---\n",
    "## Training"
   ]
  },
  {
   "cell_type": "code",
   "execution_count": 9,
   "metadata": {},
   "outputs": [],
   "source": [
    "# loss and optimizer\n",
    "criterion = nn.CrossEntropyLoss()\n",
    "optimizer = torch.optim.Adagrad(model.parameters())"
   ]
  },
  {
   "cell_type": "code",
   "execution_count": 10,
   "metadata": {},
   "outputs": [],
   "source": [
    "# fgsm attack code\n",
    "def fgsm_attack(image, epsilon, data_grad):\n",
    "    # collect the element-wise sign of the data gradient\n",
    "    sign_data_grad = data_grad.sign()\n",
    "    # create the perturbed image by adjusting each pixel of the input image\n",
    "    perturbed_image = image + epsilon*sign_data_grad\n",
    "    # standardise the data within the batch\n",
    "    perturbed_image = (perturbed_image - torch.mean(perturbed_image,axis=(0,2,3)).view(1,-1,1,1)) / torch.std(perturbed_image,axis=(0,2,3)).view(1,-1,1,1)\n",
    "    # return the perturbed image\n",
    "    return perturbed_image"
   ]
  },
  {
   "cell_type": "markdown",
   "metadata": {},
   "source": [
    "Further augment the data with fgsm attack, this should result in a more robust network, see [here](https://arxiv.org/pdf/1706.06083.pdf) and [here](https://arxiv.org/pdf/1511.06306.pdf). I am a bit uncertain with the standardisation of the perturbed image as in the implementations I have seen they do not renormalise it, but rather force them to be within the range of $[0,1]$, which is not exactly the same as above."
   ]
  },
  {
   "cell_type": "code",
   "execution_count": 11,
   "metadata": {},
   "outputs": [],
   "source": [
    "def batch_gd(model, criterion, optimizer, train_loader, test_loader, epochs):\n",
    "    train_losses = np.zeros(epochs)\n",
    "    test_losses = np.zeros(epochs)\n",
    "\n",
    "    for it in range(epochs):\n",
    "        t0 = datetime.now()\n",
    "        train_loss = []\n",
    "        for inputs, targets in train_loader:\n",
    "            # move data to gpu\n",
    "            inputs, targets = inputs.to(device), targets.to(device)\n",
    "\n",
    "            #### augment data with fgsm attack\n",
    "            inputs.requires_grad = True\n",
    "\n",
    "            outputs, _ = model(inputs)\n",
    "\n",
    "            loss = F.nll_loss(outputs, targets)\n",
    "            model.zero_grad()\n",
    "            loss.backward()\n",
    "            inputs_grad = inputs.grad.data\n",
    "\n",
    "            inputs = fgsm_attack(inputs, np.random.uniform(high=0.025), inputs_grad)\n",
    "            ####\n",
    "            \n",
    "            # zero the parameter gradients\n",
    "            optimizer.zero_grad()\n",
    "\n",
    "            # forward calculation and loss\n",
    "            outputs, _ = model(inputs)\n",
    "            loss = criterion(outputs, targets)\n",
    "\n",
    "            # backward propagation and optimize\n",
    "            loss.backward()\n",
    "            optimizer.step()\n",
    "            \n",
    "            # store loss on batch\n",
    "            train_loss.append(loss.item())\n",
    "\n",
    "        # train loss\n",
    "        train_loss = np.mean(train_loss) # a little misleading\n",
    "        \n",
    "        # repeat for test set\n",
    "        test_loss = []\n",
    "        for inputs, targets in test_loader:\n",
    "            inputs, targets = inputs.to(device), targets.to(device)\n",
    "            outputs, _ = model(inputs)\n",
    "            loss = criterion(outputs, targets)\n",
    "            test_loss.append(loss.item())\n",
    "        test_loss = np.mean(test_loss)\n",
    "\n",
    "        # save losses for every epoch\n",
    "        train_losses[it] = train_loss\n",
    "        test_losses[it] = test_loss\n",
    "        \n",
    "        # print train and test details\n",
    "        dt = datetime.now() - t0\n",
    "        print(f'Epoch {it+1}/{epochs}, Train Loss: {train_loss:.4f}, \\\n",
    "          Test Loss: {test_loss:.4f}, Duration: {dt}')\n",
    "  \n",
    "    return train_losses, test_losses"
   ]
  },
  {
   "cell_type": "code",
   "execution_count": 12,
   "metadata": {},
   "outputs": [
    {
     "name": "stdout",
     "output_type": "stream",
     "text": [
      "Epoch 1/20, Train Loss: 6.9602,           Test Loss: 1.6858, Duration: 0:00:46.428260\n",
      "Epoch 2/20, Train Loss: 2.2472,           Test Loss: 1.5384, Duration: 0:00:46.432317\n",
      "Epoch 3/20, Train Loss: 2.1514,           Test Loss: 1.3617, Duration: 0:00:46.817790\n",
      "Epoch 4/20, Train Loss: 2.0314,           Test Loss: 1.2669, Duration: 0:00:49.303099\n",
      "Epoch 5/20, Train Loss: 1.9823,           Test Loss: 1.1701, Duration: 0:00:46.971019\n",
      "Epoch 6/20, Train Loss: 1.9252,           Test Loss: 1.2387, Duration: 0:00:46.749149\n",
      "Epoch 7/20, Train Loss: 1.8660,           Test Loss: 1.1187, Duration: 0:00:46.865258\n",
      "Epoch 8/20, Train Loss: 1.9152,           Test Loss: 1.0609, Duration: 0:00:46.350771\n",
      "Epoch 9/20, Train Loss: 1.8571,           Test Loss: 1.0564, Duration: 0:00:46.567048\n",
      "Epoch 10/20, Train Loss: 1.8192,           Test Loss: 1.1249, Duration: 0:00:47.098081\n",
      "Epoch 11/20, Train Loss: 1.8314,           Test Loss: 1.0146, Duration: 0:00:46.952275\n",
      "Epoch 12/20, Train Loss: 1.7737,           Test Loss: 0.9813, Duration: 0:00:46.549726\n",
      "Epoch 13/20, Train Loss: 1.7607,           Test Loss: 0.9833, Duration: 0:00:46.794568\n",
      "Epoch 14/20, Train Loss: 1.6763,           Test Loss: 0.9743, Duration: 0:00:46.605852\n",
      "Epoch 15/20, Train Loss: 1.7030,           Test Loss: 0.9336, Duration: 0:00:46.726006\n",
      "Epoch 16/20, Train Loss: 1.6946,           Test Loss: 0.9399, Duration: 0:00:46.747281\n",
      "Epoch 17/20, Train Loss: 1.6367,           Test Loss: 0.9523, Duration: 0:00:49.368189\n",
      "Epoch 18/20, Train Loss: 1.6107,           Test Loss: 0.9387, Duration: 0:00:46.057662\n",
      "Epoch 19/20, Train Loss: 1.5881,           Test Loss: 0.8986, Duration: 0:00:45.999271\n",
      "Epoch 20/20, Train Loss: 1.6033,           Test Loss: 0.9256, Duration: 0:00:45.960198\n"
     ]
    }
   ],
   "source": [
    "# actual training\n",
    "train_losses, test_losses = batch_gd(\n",
    "    model,\n",
    "    criterion,\n",
    "    optimizer,\n",
    "    train_loader,\n",
    "    test_loader,\n",
    "    epochs=20,\n",
    ")\n",
    "\n",
    "train_losses, test_losses = list(train_losses), list(test_losses)"
   ]
  },
  {
   "cell_type": "code",
   "execution_count": 13,
   "metadata": {},
   "outputs": [
    {
     "data": {
      "image/png": "[encoded data removed]",
      "text/plain": [
       "<Figure size 1152x576 with 1 Axes>"
      ]
     },
     "metadata": {
      "needs_background": "light"
     },
     "output_type": "display_data"
    }
   ],
   "source": [
    "# plot losses during random sample training\n",
    "plt.figure(figsize=(16,8))\n",
    "plt.plot(train_losses, label='train loss')\n",
    "plt.plot(test_losses, label='test loss')\n",
    "plt.xlabel('epochs')\n",
    "plt.ylabel('cross entropy loss')\n",
    "plt.legend()\n",
    "plt.show()"
   ]
  },
  {
   "cell_type": "markdown",
   "metadata": {},
   "source": [
    "---\n",
    "## Active learning with margin sampling"
   ]
  },
  {
   "cell_type": "code",
   "execution_count": 14,
   "metadata": {},
   "outputs": [
    {
     "name": "stdout",
     "output_type": "stream",
     "text": [
      "Epoch 1/5, Train Loss: 1.6111,           Test Loss: 0.8543, Duration: 0:00:46.649908\n",
      "Epoch 2/5, Train Loss: 1.5532,           Test Loss: 0.8685, Duration: 0:00:46.755029\n",
      "Epoch 3/5, Train Loss: 1.5599,           Test Loss: 0.8836, Duration: 0:00:46.714753\n",
      "Epoch 4/5, Train Loss: 1.5267,           Test Loss: 0.8706, Duration: 0:00:47.345807\n",
      "Epoch 5/5, Train Loss: 1.4782,           Test Loss: 0.8848, Duration: 0:00:47.759500\n",
      "Epoch 1/5, Train Loss: 1.5774,           Test Loss: 0.8559, Duration: 0:00:47.597870\n",
      "Epoch 2/5, Train Loss: 1.4830,           Test Loss: 0.8596, Duration: 0:00:47.553135\n",
      "Epoch 3/5, Train Loss: 1.4932,           Test Loss: 0.8822, Duration: 0:00:47.748900\n",
      "Epoch 4/5, Train Loss: 1.4553,           Test Loss: 0.8394, Duration: 0:00:47.592435\n",
      "Epoch 5/5, Train Loss: 1.4330,           Test Loss: 0.9396, Duration: 0:00:47.525086\n",
      "Epoch 1/5, Train Loss: 1.4871,           Test Loss: 0.8869, Duration: 0:00:48.118897\n",
      "Epoch 2/5, Train Loss: 1.5029,           Test Loss: 0.8806, Duration: 0:00:48.148403\n",
      "Epoch 3/5, Train Loss: 1.3954,           Test Loss: 0.8412, Duration: 0:00:48.127308\n",
      "Epoch 4/5, Train Loss: 1.3996,           Test Loss: 0.8632, Duration: 0:00:48.078837\n",
      "Epoch 5/5, Train Loss: 1.3229,           Test Loss: 0.9205, Duration: 0:00:48.137321\n",
      "Epoch 1/5, Train Loss: 1.4455,           Test Loss: 0.8942, Duration: 0:00:49.411382\n",
      "Epoch 2/5, Train Loss: 1.4077,           Test Loss: 0.8685, Duration: 0:00:49.318076\n",
      "Epoch 3/5, Train Loss: 1.3934,           Test Loss: 0.9168, Duration: 0:00:49.230227\n",
      "Epoch 4/5, Train Loss: 1.4181,           Test Loss: 0.8735, Duration: 0:00:50.169719\n",
      "Epoch 5/5, Train Loss: 1.4016,           Test Loss: 0.8679, Duration: 0:00:49.378117\n",
      "Epoch 1/5, Train Loss: 1.3958,           Test Loss: 0.8250, Duration: 0:00:51.185673\n",
      "Epoch 2/5, Train Loss: 1.3298,           Test Loss: 0.8559, Duration: 0:00:50.419156\n",
      "Epoch 3/5, Train Loss: 1.3204,           Test Loss: 0.8574, Duration: 0:00:50.359405\n",
      "Epoch 4/5, Train Loss: 1.2923,           Test Loss: 0.8491, Duration: 0:00:50.582669\n",
      "Epoch 5/5, Train Loss: 1.2704,           Test Loss: 0.8412, Duration: 0:00:50.424952\n"
     ]
    },
    {
     "data": {
      "image/png": "[encoded data removed]",
      "text/plain": [
       "<Figure size 1152x576 with 1 Axes>"
      ]
     },
     "metadata": {
      "needs_background": "light"
     },
     "output_type": "display_data"
    }
   ],
   "source": [
    "for _ in range(5):\n",
    "    \n",
    "    # first we calculate the differences between the predicted values for most and second most probable class\n",
    "    # we are going to feed in 25-25 new images of those into the dataset randomly and do this until\n",
    "    # 1000 images is reached, thus the 5 loop\n",
    "    \n",
    "    # get average distance between the first and second predicted class\n",
    "    margins = {}\n",
    "\n",
    "    n_correct = 0.\n",
    "    n_total = 0.\n",
    "    for inputs, targets in test_loader:\n",
    "        \n",
    "        inputs, targets = inputs.to(device), targets.to(device)\n",
    "\n",
    "        outputs, _ = model(inputs)\n",
    "\n",
    "        values, indices = torch.topk(outputs,2,1)\n",
    "\n",
    "        for diff, labels in zip((values[:,0] - values[:,1]).data.cpu().numpy(), torch.sort(indices)[0].data.cpu().numpy()):\n",
    "            lab = str(labels[0])+'-'+str(labels[1])\n",
    "            if lab in margins.keys():\n",
    "                margins[lab].append(diff)\n",
    "            else:\n",
    "                margins[lab] = [diff]\n",
    "\n",
    "    for key in margins.keys():\n",
    "        margins[key] = np.mean(margins[key])\n",
    "\n",
    "    ######################\n",
    "    # labels of the newly extended dataset of the with the minimal distance classes\n",
    "\n",
    "    marginal_labels = np.array(min(margins, key=margins.get).split('-')).astype(int)\n",
    "    new_labels = 0\n",
    "    while True:\n",
    "        choice = np.random.choice(list(unused_indices), 1, replace=False)\n",
    "        choice_label = np.array(train_dataset.targets)[choice][0]\n",
    "        if choice_label in marginal_labels:\n",
    "            new_labels += 1\n",
    "            unused_indices -= {choice[0]}\n",
    "        else:\n",
    "            pass\n",
    "\n",
    "        if new_labels == 50:\n",
    "            break\n",
    "\n",
    "    extended_labels = list(set(range(train_dataset.data.shape[0])) - unused_indices)\n",
    "\n",
    "    ####################\n",
    "    # update train loader\n",
    "    \n",
    "    train_loader = torch.utils.data.DataLoader(\n",
    "        train_dataset,\n",
    "        batch_size=batch_size,\n",
    "        sampler=torch.utils.data.sampler.SubsetRandomSampler(extended_labels)\n",
    "    )\n",
    "\n",
    "    ####################\n",
    "    # train the model with the extended dataset\n",
    "\n",
    "    tr_ls, te_ls = batch_gd(\n",
    "        model,\n",
    "        criterion,\n",
    "        optimizer,\n",
    "        train_loader,\n",
    "        test_loader,\n",
    "        epochs=5,\n",
    "    )\n",
    "    \n",
    "    tr_ls, te_ls = list(tr_ls), list(te_ls)\n",
    "    \n",
    "    train_losses.extend(tr_ls)\n",
    "    test_losses.extend(te_ls)\n",
    "    \n",
    "# plot training results after active learning\n",
    "plt.figure(figsize=(16,8))\n",
    "plt.plot(train_losses, label='train loss')\n",
    "plt.plot(test_losses, label='test loss')\n",
    "plt.xlabel('epochs')\n",
    "plt.ylabel('cross entropy loss')\n",
    "plt.legend()\n",
    "plt.savefig('./images/robust_model_training.png')\n",
    "plt.show()"
   ]
  },
  {
   "cell_type": "markdown",
   "metadata": {},
   "source": [
    "---\n",
    "## Results\n",
    "\n",
    "I will use pytorch provided [FGSM attack](https://pytorch.org/tutorials/beginner/fgsm_tutorial.html) to test its robustness, furthermore accuracy for the normal case ($\\epsilon = 0.0$). There is a minor modification on the pytorch script, our data was not min-max scaled, but standardised, thus I standardised the results with respect to the batch. Though it must be said that within the batches I have seen larger deviations for the mean, I believe this could be solved using larger batches, however this is the maximum my vga can handle.\n",
    "\n",
    "In addition as I used data augmentation when I loaded the training set I will have to load a new not augmented train dataset to see the results on it."
   ]
  },
  {
   "cell_type": "code",
   "execution_count": 15,
   "metadata": {},
   "outputs": [
    {
     "name": "stdout",
     "output_type": "stream",
     "text": [
      "Files already downloaded and verified\n"
     ]
    }
   ],
   "source": [
    "# not augmented train data\n",
    "train_dataset_fixed = torchvision.datasets.CIFAR10(\n",
    "    root='.',\n",
    "    train=True,\n",
    "    transform=test_transform,\n",
    "    download=True)\n",
    "train_loader_fixed = torch.utils.data.DataLoader(\n",
    "    train_dataset_fixed,\n",
    "    batch_size=batch_size,\n",
    "    shuffle=False\n",
    ")"
   ]
  },
  {
   "cell_type": "code",
   "execution_count": 16,
   "metadata": {},
   "outputs": [
    {
     "name": "stdout",
     "output_type": "stream",
     "text": [
      "Epsilon: 0.0\n",
      "Perturbed train acc: 0.7231, Perturbed test acc: 0.7105\n",
      "Epsilon: 0.01\n",
      "Perturbed train acc: 0.2493, Perturbed test acc: 0.2399\n",
      "Epsilon: 0.05\n",
      "Perturbed train acc: 0.3505, Perturbed test acc: 0.3424\n",
      "Epsilon: 0.1\n",
      "Perturbed train acc: 0.3741, Perturbed test acc: 0.3656\n",
      "Epsilon: 0.2\n",
      "Perturbed train acc: 0.3475, Perturbed test acc: 0.3468\n",
      "Epsilon: 0.3\n",
      "Perturbed train acc: 0.3009, Perturbed test acc: 0.2953\n"
     ]
    }
   ],
   "source": [
    "# this is basically the same as the batch_gd function, but we do not optimise, just calculate the predictions at a given epsilon value\n",
    "\n",
    "train_pert_res = []\n",
    "test_pert_res = []\n",
    "\n",
    "for epsilon in [0.,0.01,0.05,0.1,0.2,0.3]:\n",
    "\n",
    "    n_correct_perturbed = 0.\n",
    "    n_total_perturbed = 0.\n",
    "    for inputs, targets in train_loader_fixed:\n",
    "        # Move to GPU\n",
    "        inputs, targets = inputs.to(device), targets.to(device)\n",
    "\n",
    "        inputs.requires_grad = True\n",
    "        \n",
    "        outputs, _= model(inputs)\n",
    "        \n",
    "        loss = F.nll_loss(outputs, targets)\n",
    "        model.zero_grad()\n",
    "        loss.backward()\n",
    "        inputs_grad = inputs.grad.data\n",
    "\n",
    "        perturbed_inputs = fgsm_attack(inputs, epsilon, inputs_grad)\n",
    "\n",
    "        outputs, _ = model(perturbed_inputs)\n",
    "        _, predictions = torch.max(outputs, 1)\n",
    "\n",
    "        n_correct_perturbed += (predictions == targets).sum().item()\n",
    "        n_total_perturbed += targets.shape[0]\n",
    "\n",
    "    train_acc_perturbed = n_correct_perturbed / n_total_perturbed\n",
    "\n",
    "    n_correct_perturbed = 0.\n",
    "    n_total_perturbed = 0.\n",
    "    for inputs, targets in test_loader:\n",
    "        # Move to GPU\n",
    "        inputs, targets = inputs.to(device), targets.to(device)\n",
    "\n",
    "        inputs.requires_grad = True\n",
    "\n",
    "        outputs, _= model(inputs)\n",
    "        \n",
    "        loss = F.nll_loss(outputs, targets)\n",
    "        model.zero_grad()\n",
    "        loss.backward()\n",
    "        inputs_grad = inputs.grad.data\n",
    "\n",
    "        perturbed_inputs = fgsm_attack(inputs, epsilon, inputs_grad)\n",
    "\n",
    "        outputs, _ = model(perturbed_inputs)\n",
    "        _, predictions = torch.max(outputs, 1)\n",
    "\n",
    "        n_correct_perturbed += (predictions == targets).sum().item()\n",
    "        n_total_perturbed += targets.shape[0]\n",
    "\n",
    "    test_acc_perturbed = n_correct_perturbed / n_total_perturbed\n",
    "\n",
    "    print('Epsilon:',epsilon)\n",
    "    print(f\"Perturbed train acc: {train_acc_perturbed:.4f}, Perturbed test acc: {test_acc_perturbed:.4f}\")\n",
    "    \n",
    "    train_pert_res.append(train_acc_perturbed)\n",
    "    test_pert_res.append(test_acc_perturbed)"
   ]
  },
  {
   "cell_type": "code",
   "execution_count": 17,
   "metadata": {},
   "outputs": [
    {
     "data": {
      "image/png": "[encoded data removed]",
      "text/plain": [
       "<Figure size 1152x576 with 1 Axes>"
      ]
     },
     "metadata": {
      "needs_background": "light"
     },
     "output_type": "display_data"
    }
   ],
   "source": [
    "# fgsm durability\n",
    "plt.figure(figsize=(16,8))\n",
    "plt.plot([0.,0.01,0.05,0.1,0.2,0.3],train_pert_res,label='train accuracy')\n",
    "plt.plot([0.,0.01,0.05,0.1,0.2,0.3],test_pert_res,label='test accuracy')\n",
    "plt.legend()\n",
    "plt.xlabel('epsilon')\n",
    "plt.ylabel('accuracy')\n",
    "plt.ylim([0,1])\n",
    "plt.savefig('./images/robust_model_durability.png')\n",
    "plt.show()"
   ]
  },
  {
   "cell_type": "code",
   "execution_count": 18,
   "metadata": {},
   "outputs": [
    {
     "name": "stderr",
     "output_type": "stream",
     "text": [
      "/home/eugenio/anaconda3/lib/python3.7/site-packages/torch/serialization.py:402: UserWarning: Couldn't retrieve source code for container of type vgg_head. It won't be checked for correctness upon loading.\n",
      "  \"type \" + obj.__name__ + \". It won't be checked \"\n"
     ]
    }
   ],
   "source": [
    "torch.save(model,'./models/robust_model.pt')"
   ]
  },
  {
   "cell_type": "code",
   "execution_count": null,
   "metadata": {},
   "outputs": [],
   "source": []
  }
 ],
 "metadata": {
  "kernelspec": {
   "display_name": "Python 3",
   "language": "python",
   "name": "python3"
  },
  "language_info": {
   "codemirror_mode": {
    "name": "ipython",
    "version": 3
   },
   "file_extension": ".py",
   "mimetype": "text/x-python",
   "name": "python",
   "nbconvert_exporter": "python",
   "pygments_lexer": "ipython3",
   "version": "3.7.3"
  }
 },
 "nbformat": 4,
 "nbformat_minor": 4
}
