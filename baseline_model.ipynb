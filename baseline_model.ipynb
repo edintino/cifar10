{
 "cells": [
  {
   "cell_type": "markdown",
   "metadata": {},
   "source": [
    "# Baseline model\n",
    "\n",
    "## Data preparation"
   ]
  },
  {
   "cell_type": "code",
   "execution_count": 1,
   "metadata": {},
   "outputs": [
    {
     "data": {
      "text/plain": [
       "<torch._C.Generator at 0x7f1104082410>"
      ]
     },
     "execution_count": 1,
     "metadata": {},
     "output_type": "execute_result"
    }
   ],
   "source": [
    "# required imports and set seeds\n",
    "import torch\n",
    "import torch.nn as nn\n",
    "import torch.nn.functional as F\n",
    "import numpy as np\n",
    "from datetime import datetime\n",
    "\n",
    "import torchvision\n",
    "import torchvision.transforms as transforms\n",
    "\n",
    "import matplotlib.pyplot as plt\n",
    "import pandas as pd\n",
    "\n",
    "np.random.seed(7843)\n",
    "torch.manual_seed(7843)"
   ]
  },
  {
   "cell_type": "code",
   "execution_count": 2,
   "metadata": {},
   "outputs": [
    {
     "name": "stdout",
     "output_type": "stream",
     "text": [
      "Files already downloaded and verified\n",
      "Files already downloaded and verified\n"
     ]
    }
   ],
   "source": [
    "# transform required for vgg\n",
    "transform = transforms.Compose([\n",
    "        transforms.Resize(size=256),\n",
    "        transforms.CenterCrop(size=224),\n",
    "        transforms.ToTensor(),\n",
    "        transforms.Normalize([0.485, 0.456, 0.406], [0.229, 0.224, 0.225])\n",
    "])\n",
    "\n",
    "# load torchvision's predefined train and test cifar10 datasets\n",
    "train_dataset = torchvision.datasets.CIFAR10(\n",
    "    root='.',\n",
    "    train=True,\n",
    "    transform=transform,\n",
    "    download=True)\n",
    "test_dataset = torchvision.datasets.CIFAR10(\n",
    "    root='.',\n",
    "    train=False,\n",
    "    transform=transform,\n",
    "    download=True)"
   ]
  },
  {
   "cell_type": "code",
   "execution_count": 3,
   "metadata": {},
   "outputs": [
    {
     "name": "stdout",
     "output_type": "stream",
     "text": [
      "Number of classes: 10\n"
     ]
    }
   ],
   "source": [
    "K = len(set(train_dataset.targets))\n",
    "print(\"Number of classes:\", K)"
   ]
  },
  {
   "cell_type": "markdown",
   "metadata": {},
   "source": [
    "Small batch training tend to out perform large batch training at sharp minimas, see [here](https://arxiv.org/pdf/1609.04836.pdf)."
   ]
  },
  {
   "cell_type": "code",
   "execution_count": 4,
   "metadata": {},
   "outputs": [],
   "source": [
    "# batch size is bascially defined by the memory of my gpu\n",
    "batch_size = 16\n",
    "unused_indices = set(range(train_dataset.data.shape[0]))\n",
    "\n",
    "# random subselection of images\n",
    "rand_indices = np.random.choice(range(train_dataset.data.shape[0]), 1000, replace=False)\n",
    "unused_indices -= set(rand_indices)\n",
    "\n",
    "train_loader = torch.utils.data.DataLoader(\n",
    "    train_dataset,\n",
    "    batch_size=batch_size,\n",
    "    sampler=torch.utils.data.sampler.SubsetRandomSampler(rand_indices)\n",
    ")\n",
    "test_loader = torch.utils.data.DataLoader(\n",
    "    test_dataset,\n",
    "    batch_size=batch_size,\n",
    ")"
   ]
  },
  {
   "cell_type": "markdown",
   "metadata": {},
   "source": [
    "Quick check on the distribution of the labels of the training dataset, looks healthy."
   ]
  },
  {
   "cell_type": "code",
   "execution_count": 5,
   "metadata": {},
   "outputs": [
    {
     "data": {
      "text/plain": [
       "5    118\n",
       "0    109\n",
       "3    100\n",
       "2     99\n",
       "4     98\n",
       "8     97\n",
       "9     96\n",
       "7     96\n",
       "6     96\n",
       "1     91\n",
       "dtype: int64"
      ]
     },
     "execution_count": 5,
     "metadata": {},
     "output_type": "execute_result"
    }
   ],
   "source": [
    "pd.Series(np.array(train_dataset.targets)[rand_indices]).value_counts()"
   ]
  },
  {
   "cell_type": "markdown",
   "metadata": {},
   "source": [
    "---\n",
    "## Model"
   ]
  },
  {
   "cell_type": "code",
   "execution_count": 6,
   "metadata": {},
   "outputs": [],
   "source": [
    "model = torchvision.models.vgg16(pretrained=True)\n",
    "\n",
    "# freeze vgg weights\n",
    "for param in model.parameters():\n",
    "    param.requires_grad = False\n",
    "    \n",
    "# extract number of features\n",
    "n_features = model.classifier[0].in_features"
   ]
  },
  {
   "cell_type": "code",
   "execution_count": 7,
   "metadata": {},
   "outputs": [],
   "source": [
    "# define the basic head we used for pretrained model selection\n",
    "class vgg_head(nn.Module):\n",
    "    def __init__(self, n_features, K):\n",
    "        super(vgg_head, self).__init__()\n",
    "        \n",
    "        self.fc = nn.Sequential(nn.Linear(n_features, K))\n",
    "        \n",
    "    def forward(self, x):\n",
    "        outputs = self.fc(x)\n",
    "        return outputs, torch.ones(outputs.shape, dtype=outputs.dtype)\n",
    "    \n",
    "model.classifier = vgg_head(n_features, K)"
   ]
  },
  {
   "cell_type": "code",
   "execution_count": 8,
   "metadata": {},
   "outputs": [
    {
     "name": "stdout",
     "output_type": "stream",
     "text": [
      "cuda:0\n"
     ]
    },
    {
     "data": {
      "text/plain": [
       "VGG(\n",
       "  (features): Sequential(\n",
       "    (0): Conv2d(3, 64, kernel_size=(3, 3), stride=(1, 1), padding=(1, 1))\n",
       "    (1): ReLU(inplace=True)\n",
       "    (2): Conv2d(64, 64, kernel_size=(3, 3), stride=(1, 1), padding=(1, 1))\n",
       "    (3): ReLU(inplace=True)\n",
       "    (4): MaxPool2d(kernel_size=2, stride=2, padding=0, dilation=1, ceil_mode=False)\n",
       "    (5): Conv2d(64, 128, kernel_size=(3, 3), stride=(1, 1), padding=(1, 1))\n",
       "    (6): ReLU(inplace=True)\n",
       "    (7): Conv2d(128, 128, kernel_size=(3, 3), stride=(1, 1), padding=(1, 1))\n",
       "    (8): ReLU(inplace=True)\n",
       "    (9): MaxPool2d(kernel_size=2, stride=2, padding=0, dilation=1, ceil_mode=False)\n",
       "    (10): Conv2d(128, 256, kernel_size=(3, 3), stride=(1, 1), padding=(1, 1))\n",
       "    (11): ReLU(inplace=True)\n",
       "    (12): Conv2d(256, 256, kernel_size=(3, 3), stride=(1, 1), padding=(1, 1))\n",
       "    (13): ReLU(inplace=True)\n",
       "    (14): Conv2d(256, 256, kernel_size=(3, 3), stride=(1, 1), padding=(1, 1))\n",
       "    (15): ReLU(inplace=True)\n",
       "    (16): MaxPool2d(kernel_size=2, stride=2, padding=0, dilation=1, ceil_mode=False)\n",
       "    (17): Conv2d(256, 512, kernel_size=(3, 3), stride=(1, 1), padding=(1, 1))\n",
       "    (18): ReLU(inplace=True)\n",
       "    (19): Conv2d(512, 512, kernel_size=(3, 3), stride=(1, 1), padding=(1, 1))\n",
       "    (20): ReLU(inplace=True)\n",
       "    (21): Conv2d(512, 512, kernel_size=(3, 3), stride=(1, 1), padding=(1, 1))\n",
       "    (22): ReLU(inplace=True)\n",
       "    (23): MaxPool2d(kernel_size=2, stride=2, padding=0, dilation=1, ceil_mode=False)\n",
       "    (24): Conv2d(512, 512, kernel_size=(3, 3), stride=(1, 1), padding=(1, 1))\n",
       "    (25): ReLU(inplace=True)\n",
       "    (26): Conv2d(512, 512, kernel_size=(3, 3), stride=(1, 1), padding=(1, 1))\n",
       "    (27): ReLU(inplace=True)\n",
       "    (28): Conv2d(512, 512, kernel_size=(3, 3), stride=(1, 1), padding=(1, 1))\n",
       "    (29): ReLU(inplace=True)\n",
       "    (30): MaxPool2d(kernel_size=2, stride=2, padding=0, dilation=1, ceil_mode=False)\n",
       "  )\n",
       "  (avgpool): AdaptiveAvgPool2d(output_size=(7, 7))\n",
       "  (classifier): vgg_head(\n",
       "    (fc): Sequential(\n",
       "      (0): Linear(in_features=25088, out_features=10, bias=True)\n",
       "    )\n",
       "  )\n",
       ")"
      ]
     },
     "execution_count": 8,
     "metadata": {},
     "output_type": "execute_result"
    }
   ],
   "source": [
    "# look for gpu\n",
    "# move model to gpu\n",
    "device = torch.device(\"cuda:0\" if torch.cuda.is_available() else \"cpu\")\n",
    "print(device)\n",
    "model.to(device)"
   ]
  },
  {
   "cell_type": "markdown",
   "metadata": {},
   "source": [
    "---\n",
    "## Training"
   ]
  },
  {
   "cell_type": "code",
   "execution_count": 9,
   "metadata": {},
   "outputs": [],
   "source": [
    "# loss and optimizer\n",
    "criterion = nn.CrossEntropyLoss()\n",
    "optimizer = torch.optim.Adagrad(model.parameters())"
   ]
  },
  {
   "cell_type": "code",
   "execution_count": 10,
   "metadata": {},
   "outputs": [],
   "source": [
    "def batch_gd(model, criterion, optimizer, train_loader, test_loader, epochs):\n",
    "    train_losses = np.zeros(epochs)\n",
    "    test_losses = np.zeros(epochs)\n",
    "\n",
    "    for it in range(epochs):\n",
    "        t0 = datetime.now()\n",
    "        train_loss = []\n",
    "        for inputs, targets in train_loader:\n",
    "            # move data to gpu\n",
    "            inputs, targets = inputs.to(device), targets.to(device)\n",
    "\n",
    "            # zero the parameter gradients\n",
    "            optimizer.zero_grad()\n",
    "\n",
    "            # forward calculation and loss\n",
    "            outputs, _ = model(inputs)\n",
    "            loss = criterion(outputs, targets)\n",
    "\n",
    "            # backward propagation and optimize\n",
    "            loss.backward()\n",
    "            optimizer.step()\n",
    "            \n",
    "            # store loss on batch\n",
    "            train_loss.append(loss.item())\n",
    "\n",
    "        # train loss\n",
    "        train_loss = np.mean(train_loss) # a little misleading\n",
    "        \n",
    "        # repeat for test set\n",
    "        test_loss = []\n",
    "        for inputs, targets in test_loader:\n",
    "            inputs, targets = inputs.to(device), targets.to(device)\n",
    "            outputs, _ = model(inputs)\n",
    "            loss = criterion(outputs, targets)\n",
    "            test_loss.append(loss.item())\n",
    "        test_loss = np.mean(test_loss)\n",
    "\n",
    "        # save losses for every epoch\n",
    "        train_losses[it] = train_loss\n",
    "        test_losses[it] = test_loss\n",
    "        \n",
    "        # print train and test details\n",
    "        dt = datetime.now() - t0\n",
    "        print(f'Epoch {it+1}/{epochs}, Train Loss: {train_loss:.4f}, \\\n",
    "          Test Loss: {test_loss:.4f}, Duration: {dt}')\n",
    "  \n",
    "    return train_losses, test_losses"
   ]
  },
  {
   "cell_type": "code",
   "execution_count": 11,
   "metadata": {},
   "outputs": [
    {
     "name": "stdout",
     "output_type": "stream",
     "text": [
      "Epoch 1/10, Train Loss: 2.9854,           Test Loss: 1.8558, Duration: 0:00:35.276489\n",
      "Epoch 2/10, Train Loss: 0.1317,           Test Loss: 1.4178, Duration: 0:00:34.779665\n",
      "Epoch 3/10, Train Loss: 0.0102,           Test Loss: 1.2773, Duration: 0:00:34.745601\n",
      "Epoch 4/10, Train Loss: 0.0016,           Test Loss: 1.2677, Duration: 0:00:34.867561\n",
      "Epoch 5/10, Train Loss: 0.0013,           Test Loss: 1.2625, Duration: 0:00:34.784544\n",
      "Epoch 6/10, Train Loss: 0.0011,           Test Loss: 1.2592, Duration: 0:00:34.728275\n",
      "Epoch 7/10, Train Loss: 0.0010,           Test Loss: 1.2570, Duration: 0:00:35.585456\n",
      "Epoch 8/10, Train Loss: 0.0009,           Test Loss: 1.2553, Duration: 0:00:34.779565\n",
      "Epoch 9/10, Train Loss: 0.0008,           Test Loss: 1.2541, Duration: 0:00:34.730604\n",
      "Epoch 10/10, Train Loss: 0.0008,           Test Loss: 1.2532, Duration: 0:00:34.850270\n"
     ]
    }
   ],
   "source": [
    "# actual training\n",
    "train_losses, test_losses = batch_gd(\n",
    "    model,\n",
    "    criterion,\n",
    "    optimizer,\n",
    "    train_loader,\n",
    "    test_loader,\n",
    "    epochs=10,\n",
    ")\n",
    "\n",
    "train_losses, test_losses = list(train_losses), list(test_losses)"
   ]
  },
  {
   "cell_type": "code",
   "execution_count": 12,
   "metadata": {},
   "outputs": [
    {
     "data": {
      "image/png": "[encoded data removed]",
      "text/plain": [
       "<Figure size 1152x576 with 1 Axes>"
      ]
     },
     "metadata": {
      "needs_background": "light"
     },
     "output_type": "display_data"
    }
   ],
   "source": [
    "# plot losses during training\n",
    "plt.figure(figsize=(16,8))\n",
    "plt.plot(train_losses, label='train loss')\n",
    "plt.plot(test_losses, label='test loss')\n",
    "plt.xlabel('epochs')\n",
    "plt.ylabel('cross entropy loss')\n",
    "plt.legend()\n",
    "plt.savefig('./images/model_training.png')\n",
    "plt.show()"
   ]
  },
  {
   "cell_type": "markdown",
   "metadata": {},
   "source": [
    "---\n",
    "## Results\n",
    "\n",
    "I will use pytorch provided [FGSM attack](https://pytorch.org/tutorials/beginner/fgsm_tutorial.html) to test its robustness, furthermore accuracy for the normal case ($\\epsilon = 0.0$). There is a minor modification on the pytorch script, our data was not min-max scaled, but standardised, thus I standardised the results with respect to the batch. Though it must be said that within the batches I have seen larger deviations for the mean, I believe this could be solved using larger batches, however this is the maximum my vga can handle."
   ]
  },
  {
   "cell_type": "code",
   "execution_count": 13,
   "metadata": {},
   "outputs": [],
   "source": [
    "# fgsm attack code\n",
    "def fgsm_attack(image, epsilon, data_grad):\n",
    "    # collect the element-wise sign of the data gradient\n",
    "    sign_data_grad = data_grad.sign()\n",
    "    # create the perturbed image by adjusting each pixel of the input image\n",
    "    perturbed_image = image + epsilon*sign_data_grad\n",
    "    # standardise the data within the batch\n",
    "    perturbed_image = (perturbed_image - torch.mean(perturbed_image,axis=(0,2,3)).view(1,-1,1,1)) / torch.std(perturbed_image,axis=(0,2,3)).view(1,-1,1,1)\n",
    "    # return the perturbed image\n",
    "    return perturbed_image"
   ]
  },
  {
   "cell_type": "code",
   "execution_count": 14,
   "metadata": {},
   "outputs": [
    {
     "name": "stdout",
     "output_type": "stream",
     "text": [
      "Epsilon: 0.0\n",
      "Perturbed train acc: 1.0000, Perturbed test acc: 0.7267\n",
      "Epsilon: 0.01\n",
      "Perturbed train acc: 0.2140, Perturbed test acc: 0.0536\n",
      "Epsilon: 0.05\n",
      "Perturbed train acc: 0.2210, Perturbed test acc: 0.1159\n",
      "Epsilon: 0.1\n",
      "Perturbed train acc: 0.2240, Perturbed test acc: 0.1334\n",
      "Epsilon: 0.2\n",
      "Perturbed train acc: 0.1880, Perturbed test acc: 0.1283\n",
      "Epsilon: 0.3\n",
      "Perturbed train acc: 0.1420, Perturbed test acc: 0.1233\n"
     ]
    }
   ],
   "source": [
    "# this is basically the same as the batch_gd function, but we do not optimise, just calculate the predictions at a given epsilon value\n",
    "\n",
    "train_pert_res = []\n",
    "test_pert_res = []\n",
    "\n",
    "for epsilon in [0.,0.01,0.05,0.1,0.2,0.3]:\n",
    "\n",
    "    n_correct_perturbed = 0.\n",
    "    n_total_perturbed = 0.\n",
    "    for inputs, targets in train_loader:\n",
    "\n",
    "        inputs, targets = inputs.to(device), targets.to(device)\n",
    "        \n",
    "        # attack\n",
    "        inputs.requires_grad = True\n",
    "        \n",
    "        outputs, _= model(inputs)\n",
    "        \n",
    "        loss = F.nll_loss(outputs, targets)\n",
    "        model.zero_grad()\n",
    "        loss.backward()\n",
    "        inputs_grad = inputs.grad.data\n",
    "\n",
    "        # attacked image\n",
    "        perturbed_inputs = fgsm_attack(inputs, epsilon, inputs_grad)\n",
    "\n",
    "        outputs, _ = model(perturbed_inputs)\n",
    "        _, predictions = torch.max(outputs, 1)\n",
    "\n",
    "        n_correct_perturbed += (predictions == targets).sum().item()\n",
    "        n_total_perturbed += targets.shape[0]\n",
    "\n",
    "    train_acc_perturbed = n_correct_perturbed / n_total_perturbed\n",
    "\n",
    "    n_correct_perturbed = 0.\n",
    "    n_total_perturbed = 0.\n",
    "    for inputs, targets in test_loader:\n",
    "        inputs, targets = inputs.to(device), targets.to(device)\n",
    "        \n",
    "        # attack\n",
    "        inputs.requires_grad = True\n",
    "\n",
    "        outputs, _= model(inputs)\n",
    "        \n",
    "        loss = F.nll_loss(outputs, targets)\n",
    "        model.zero_grad()\n",
    "        loss.backward()\n",
    "        inputs_grad = inputs.grad.data\n",
    "        \n",
    "        # attacked image\n",
    "        perturbed_inputs = fgsm_attack(inputs, epsilon, inputs_grad)\n",
    "\n",
    "        outputs, _ = model(perturbed_inputs)\n",
    "        _, predictions = torch.max(outputs, 1)\n",
    "\n",
    "        n_correct_perturbed += (predictions == targets).sum().item()\n",
    "        n_total_perturbed += targets.shape[0]\n",
    "\n",
    "    test_acc_perturbed = n_correct_perturbed / n_total_perturbed\n",
    "\n",
    "    print('Epsilon:',epsilon)\n",
    "    print(f\"Perturbed train acc: {train_acc_perturbed:.4f}, Perturbed test acc: {test_acc_perturbed:.4f}\")\n",
    "    \n",
    "    train_pert_res.append(train_acc_perturbed)\n",
    "    test_pert_res.append(test_acc_perturbed)"
   ]
  },
  {
   "cell_type": "code",
   "execution_count": 15,
   "metadata": {},
   "outputs": [
    {
     "data": {
      "image/png": "[encoded data removed]",
      "text/plain": [
       "<Figure size 1152x576 with 1 Axes>"
      ]
     },
     "metadata": {
      "needs_background": "light"
     },
     "output_type": "display_data"
    }
   ],
   "source": [
    "# fgsm durability\n",
    "plt.figure(figsize=(16,8))\n",
    "plt.plot([0.,0.01,0.05,0.1,0.2,0.3],train_pert_res,label='train')\n",
    "plt.plot([0.,0.01,0.05,0.1,0.2,0.3],test_pert_res,label='test')\n",
    "plt.legend()\n",
    "plt.xlabel('epsilon')\n",
    "plt.ylabel('accuracy')\n",
    "plt.ylim([0,1])\n",
    "plt.savefig('./images/model_durability.png')\n",
    "plt.show()"
   ]
  },
  {
   "cell_type": "code",
   "execution_count": 16,
   "metadata": {},
   "outputs": [
    {
     "name": "stderr",
     "output_type": "stream",
     "text": [
      "/home/eugenio/anaconda3/lib/python3.7/site-packages/torch/serialization.py:402: UserWarning: Couldn't retrieve source code for container of type vgg_head. It won't be checked for correctness upon loading.\n",
      "  \"type \" + obj.__name__ + \". It won't be checked \"\n"
     ]
    }
   ],
   "source": [
    "torch.save(model,'./models/model.pt')"
   ]
  },
  {
   "cell_type": "code",
   "execution_count": null,
   "metadata": {},
   "outputs": [],
   "source": []
  }
 ],
 "metadata": {
  "kernelspec": {
   "display_name": "Python 3",
   "language": "python",
   "name": "python3"
  },
  "language_info": {
   "codemirror_mode": {
    "name": "ipython",
    "version": 3
   },
   "file_extension": ".py",
   "mimetype": "text/x-python",
   "name": "python",
   "nbconvert_exporter": "python",
   "pygments_lexer": "ipython3",
   "version": "3.7.3"
  }
 },
 "nbformat": 4,
 "nbformat_minor": 4
}
